{
  "nbformat": 4,
  "nbformat_minor": 0,
  "metadata": {
    "colab": {
      "provenance": [],
      "authorship_tag": "ABX9TyP4odZHLwiWyStmB2ebmJOs",
      "include_colab_link": true
    },
    "kernelspec": {
      "name": "python3",
      "display_name": "Python 3"
    },
    "language_info": {
      "name": "python"
    }
  },
  "cells": [
    {
      "cell_type": "markdown",
      "metadata": {
        "id": "view-in-github",
        "colab_type": "text"
      },
      "source": [
        "<a href=\"https://colab.research.google.com/github/AlexanderSanJose/OOP2-CPE009B-CpE-21S4/blob/main/Laboratory_Activity_3_Inheritance%2C_Encapsulation%2C_and_Abstraction.ipynb\" target=\"_parent\"><img src=\"https://colab.research.google.com/assets/colab-badge.svg\" alt=\"Open In Colab\"/></a>"
      ]
    },
    {
      "cell_type": "code",
      "execution_count": 4,
      "metadata": {
        "colab": {
          "base_uri": "https://localhost:8080/"
        },
        "id": "hV-4TGYthbsW",
        "outputId": "3bc07273-b9de-4f50-ea86-4223de39e241"
      },
      "outputs": [
        {
          "output_type": "stream",
          "name": "stdout",
          "text": [
            "Employee Details: {'Employee ID': 1, 'Employee Name': 'Alex', 'Employee Address': '123 Raymundo St'}\n",
            "Salary Details for 1:\n",
            "Salary ID: 101\n",
            "Cut-Off Date: 2024-09-30\n",
            "Total Salary: 4500\n",
            "\n",
            "Employee Details: {'Employee ID': 2, 'Employee Name': 'Tadoy', 'Employee Address': '456 Quezon Ave'}\n",
            "Salary Details for 2:\n",
            "Salary ID: 101\n",
            "Cut-Off Date: 2024-09-30\n",
            "Total Salary: 16000\n",
            "\n"
          ]
        }
      ],
      "source": [
        "from abc import ABC, abstractmethod  # for abstraction\n",
        "\n",
        "# Abstract Base Class (ABC) Employee (Abstraction and Encapsulation)\n",
        "class Employee(ABC):\n",
        "    def __init__(self, emp_id, emp_name, emp_address):\n",
        "        self._emp_id = emp_id  # Encapsulated variables\n",
        "        self._emp_name = emp_name\n",
        "        self._emp_address = emp_address\n",
        "\n",
        "    @abstractmethod\n",
        "    def calculate_salary(self, days_of_work):\n",
        "        pass\n",
        "\n",
        "    def get_details(self):\n",
        "        return {\n",
        "            'Employee ID': self._emp_id,\n",
        "            'Employee Name': self._emp_name,\n",
        "            'Employee Address': self._emp_address\n",
        "        }\n",
        "\n",
        "# Full-Time Employee-Class Inheritance from Employee\n",
        "class FullTimeEmployee(Employee):\n",
        "    def __init__(self, emp_id, emp_name, emp_address, allowance, rate):\n",
        "        super().__init__(emp_id, emp_name, emp_address)\n",
        "        self._allowance = allowance\n",
        "        self._rate = rate\n",
        "\n",
        "    # Implementing the abstract method to calculate salary for Full-Time Employee\n",
        "    def calculate_salary(self, days_of_work):\n",
        "        base_salary = self._rate * days_of_work\n",
        "        return base_salary + self._allowance\n",
        "\n",
        "# Part-Time Employee Class (Inheritance from Employee)\n",
        "class PartTimeEmployee(Employee):\n",
        "    def __init__(self, emp_id, emp_name, emp_address, rate):\n",
        "        super().__init__(emp_id, emp_name, emp_address)\n",
        "        self._rate = rate\n",
        "\n",
        "    # Implementing the abstract method to calculate salary for Part-Time Employee\n",
        "    def calculate_salary(self, days_of_work):\n",
        "        return self._rate * days_of_work\n",
        "\n",
        "# Salary Class for managing salary details\n",
        "class Salary:\n",
        "    def __init__(self, salary_id, cut_off_date, days_of_work):\n",
        "        self._salary_id = salary_id\n",
        "        self._cut_off_date = cut_off_date\n",
        "        self._days_of_work = days_of_work\n",
        "\n",
        "    def calculate_employee_salary(self, employee):\n",
        "        return {\n",
        "            'Employee ID': employee.get_details()['Employee ID'],\n",
        "            'Salary ID': self._salary_id,\n",
        "            'Cut-Off Date': self._cut_off_date,\n",
        "            'Total Salary': employee.calculate_salary(self._days_of_work)\n",
        "        }\n",
        "\n",
        "# Creating ADT List for Employees\n",
        "employees = []\n",
        "\n",
        "# Adding some employees\n",
        "employees.append(FullTimeEmployee(emp_id=1, emp_name='Alex', emp_address='123 Raymundo St', allowance=1500, rate=150))\n",
        "employees.append(PartTimeEmployee(emp_id=2, emp_name='Tadoy', emp_address='456 Quezon Ave', rate=800))\n",
        "# Salary information\n",
        "salary_info = Salary(salary_id=101, cut_off_date='2024-09-30', days_of_work=20)\n",
        "\n",
        "# Display Salary Details for all Employees in the ADT list\n",
        "for employee in employees:\n",
        "    salary_details = salary_info.calculate_employee_salary(employee)\n",
        "    print(f\"Employee Details: {employee.get_details()}\")\n",
        "    print(f\"Salary Details for {salary_details['Employee ID']}:\")\n",
        "    print(f\"Salary ID: {salary_details['Salary ID']}\")\n",
        "    print(f\"Cut-Off Date: {salary_details['Cut-Off Date']}\")\n",
        "    print(f\"Total Salary: {salary_details['Total Salary']}\\n\")\n"
      ]
    }
  ]
}
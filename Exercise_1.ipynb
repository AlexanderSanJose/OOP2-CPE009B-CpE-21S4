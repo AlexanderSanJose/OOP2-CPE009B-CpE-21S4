{
  "nbformat": 4,
  "nbformat_minor": 0,
  "metadata": {
    "colab": {
      "provenance": [],
      "authorship_tag": "ABX9TyNu99gktPYGUofi3dv/sle9",
      "include_colab_link": true
    },
    "kernelspec": {
      "name": "python3",
      "display_name": "Python 3"
    },
    "language_info": {
      "name": "python"
    }
  },
  "cells": [
    {
      "cell_type": "markdown",
      "metadata": {
        "id": "view-in-github",
        "colab_type": "text"
      },
      "source": [
        "<a href=\"https://colab.research.google.com/github/AlexanderSanJose/OOP2-CPE009B-CpE-21S4/blob/main/Exercise_1.ipynb\" target=\"_parent\"><img src=\"https://colab.research.google.com/assets/colab-badge.svg\" alt=\"Open In Colab\"/></a>"
      ]
    },
    {
      "cell_type": "code",
      "source": [
        "#super class/parent constructor\n",
        "\n",
        "class Person:\n",
        "  def __init__(self, name, age, birthdate):\n",
        "    self.name = name\n",
        "    self.age = age\n",
        "    self.birthdate = birthdate      #defining attributes and identity\n",
        "\n",
        "  def person_attribute(self):         #method constructor\n",
        "    return f\"My name is {self.name}, I am {self.age} years old and my birthdate is {self.birthdate}\"\n",
        "#subclass constructor\n",
        "class Teacher(Person): #sub class\n",
        "  pass\n",
        "class Student(Person): #sub class\n",
        "  pass\n",
        "\n",
        "#object instantation\n",
        "person = Person(\"Alex\", 19, \"February, 19 2005\") #behavior/instance of a class\n",
        "print(person.person_attribute())\n",
        "student = Student(\"Edson\", 19, \"February, 13 2005\") #behavior/instance of a class\n",
        "print(student.person_attribute())\n",
        "teacher = Teacher(\"Sir Titong\", 46, \"October 1, 2008\") #behavior/instance of a class\n",
        "print(teacher.person_attribute())\n"
      ],
      "metadata": {
        "colab": {
          "base_uri": "https://localhost:8080/"
        },
        "id": "Ebu8zc5BFyc3",
        "outputId": "8b1a4e07-848a-40a3-a588-febb2ebe9b52"
      },
      "execution_count": 51,
      "outputs": [
        {
          "output_type": "stream",
          "name": "stdout",
          "text": [
            "My name is Alex, I am 19 years old and my birthdate is February, 19 2005\n",
            "My name is Edson, I am 19 years old and my birthdate is February, 13 2005\n",
            "My name is Sir Titong, I am 46 years old and my birthdate is October 1, 2008\n"
          ]
        }
      ]
    },
    {
      "cell_type": "markdown",
      "source": [
        "\n",
        "#**Challenging  Python Problem**\n",
        "# **Create a python program that has the following:**"
      ],
      "metadata": {
        "id": "gg5noUkNTU20"
      }
    },
    {
      "cell_type": "code",
      "source": [
        "class Shapes(): #1. Super Class named as Shapes()\n",
        "  def __init__(self, sides):\n",
        "    self.sides = sides\n",
        "\n",
        "  def Perimeter(self):\n",
        "    pass\n",
        "  def Area(self):\n",
        "    pass\n",
        "class Rectangle(Shapes):  #2. subclass named as Rectangle/// #4. object name: Rectangle, Square\n",
        "  def __init__(self, length, width):  #5. Inherits the attributes of Superclass Shapes\n",
        "    super().__init__(sides = 0)\n",
        "    self.length = length\n",
        "    self.width = width\n",
        "  def Perimeter(self):  #3. methods: Perimeter(), Area)\n",
        "    return (self.length + self.width) * 2\n",
        "  def Area(self): #3. methods: Perimeter(), Area)\n",
        "    return self.length * self.width\n",
        "\n",
        "class Square(Shapes): #2. subclass named as Square////  #4. object name: Rectangle, Square\n",
        "  def __init__(self, sides):  #5. Inherits the attributes of Superclass Shapes\n",
        "    super().__init__(sides = sides)\n",
        "  def Perimeter(self):  #3. methods: Perimeter(), Area)\n",
        "    return self.sides * 4\n",
        "  def Area(self): #3. methods: Perimeter(), Area)\n",
        "    return self.sides * self.sides\n",
        "\n",
        "rectangle = Rectangle(100, 50)\n",
        "print(\"The area of the Rectangle is \", rectangle.Area())\n",
        "print(\"The perimeter of the Rectangle is \", rectangle.Perimeter())\n",
        "square = Square(15)\n",
        "print(\"The area of the Square is \", square.Area())\n",
        "print(\"The perimeter of the Square is \", square.Perimeter())"
      ],
      "metadata": {
        "colab": {
          "base_uri": "https://localhost:8080/"
        },
        "id": "uRlBw4MSeQiw",
        "outputId": "9d55f737-dfb3-4144-a02c-607175da6203"
      },
      "execution_count": 67,
      "outputs": [
        {
          "output_type": "stream",
          "name": "stdout",
          "text": [
            "The area of the Rectangle is  5000\n",
            "The perimeter of the Rectangle is  300\n",
            "The area of the Square is  225\n",
            "The perimeter of the Square is  60\n"
          ]
        }
      ]
    }
  ]
}